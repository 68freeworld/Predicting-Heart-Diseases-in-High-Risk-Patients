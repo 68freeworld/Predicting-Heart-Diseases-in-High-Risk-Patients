{
 "cells": [
  {
   "cell_type": "code",
   "execution_count": 7,
   "id": "12bf3365",
   "metadata": {},
   "outputs": [],
   "source": [
    "import pandas as pd\n",
    "import numpy as np\n",
    "\n",
    "from sklearn.model_selection import train_test_split\n",
    "from sklearn.preprocessing import StandardScaler\n",
    "from sklearn.cluster import KMeans\n",
    "from sklearn.neural_network import MLPClassifier\n",
    "from sklearn.metrics import (\n",
    "    silhouette_score,\n",
    "    accuracy_score,\n",
    "    precision_score,\n",
    "    recall_score,\n",
    "    f1_score,\n",
    "    classification_report,\n",
    "    confusion_matrix\n",
    ")\n",
    "\n",
    "import tensorflow as tf\n",
    "from tensorflow.keras import layers, models"
   ]
  },
  {
   "cell_type": "code",
   "execution_count": 8,
   "id": "e281ba39",
   "metadata": {},
   "outputs": [],
   "source": [
    "# 1) Load and clean the dataset\n",
    "url = \"https://raw.githubusercontent.com/kb22/Heart-Disease-Prediction/master/dataset.csv\"\n",
    "df = pd.read_csv(url).dropna()"
   ]
  },
  {
   "cell_type": "code",
   "execution_count": 10,
   "id": "f6b6b7a3",
   "metadata": {},
   "outputs": [
    {
     "data": {
      "text/html": [
       "<div>\n",
       "<style scoped>\n",
       "    .dataframe tbody tr th:only-of-type {\n",
       "        vertical-align: middle;\n",
       "    }\n",
       "\n",
       "    .dataframe tbody tr th {\n",
       "        vertical-align: top;\n",
       "    }\n",
       "\n",
       "    .dataframe thead th {\n",
       "        text-align: right;\n",
       "    }\n",
       "</style>\n",
       "<table border=\"1\" class=\"dataframe\">\n",
       "  <thead>\n",
       "    <tr style=\"text-align: right;\">\n",
       "      <th></th>\n",
       "      <th>age</th>\n",
       "      <th>sex</th>\n",
       "      <th>cp</th>\n",
       "      <th>trestbps</th>\n",
       "      <th>chol</th>\n",
       "      <th>fbs</th>\n",
       "      <th>restecg</th>\n",
       "      <th>thalach</th>\n",
       "      <th>exang</th>\n",
       "      <th>oldpeak</th>\n",
       "      <th>slope</th>\n",
       "      <th>ca</th>\n",
       "      <th>thal</th>\n",
       "      <th>target</th>\n",
       "    </tr>\n",
       "  </thead>\n",
       "  <tbody>\n",
       "    <tr>\n",
       "      <th>0</th>\n",
       "      <td>63</td>\n",
       "      <td>1</td>\n",
       "      <td>3</td>\n",
       "      <td>145</td>\n",
       "      <td>233</td>\n",
       "      <td>1</td>\n",
       "      <td>0</td>\n",
       "      <td>150</td>\n",
       "      <td>0</td>\n",
       "      <td>2.3</td>\n",
       "      <td>0</td>\n",
       "      <td>0</td>\n",
       "      <td>1</td>\n",
       "      <td>1</td>\n",
       "    </tr>\n",
       "    <tr>\n",
       "      <th>1</th>\n",
       "      <td>37</td>\n",
       "      <td>1</td>\n",
       "      <td>2</td>\n",
       "      <td>130</td>\n",
       "      <td>250</td>\n",
       "      <td>0</td>\n",
       "      <td>1</td>\n",
       "      <td>187</td>\n",
       "      <td>0</td>\n",
       "      <td>3.5</td>\n",
       "      <td>0</td>\n",
       "      <td>0</td>\n",
       "      <td>2</td>\n",
       "      <td>1</td>\n",
       "    </tr>\n",
       "    <tr>\n",
       "      <th>2</th>\n",
       "      <td>41</td>\n",
       "      <td>0</td>\n",
       "      <td>1</td>\n",
       "      <td>130</td>\n",
       "      <td>204</td>\n",
       "      <td>0</td>\n",
       "      <td>0</td>\n",
       "      <td>172</td>\n",
       "      <td>0</td>\n",
       "      <td>1.4</td>\n",
       "      <td>2</td>\n",
       "      <td>0</td>\n",
       "      <td>2</td>\n",
       "      <td>1</td>\n",
       "    </tr>\n",
       "    <tr>\n",
       "      <th>3</th>\n",
       "      <td>56</td>\n",
       "      <td>1</td>\n",
       "      <td>1</td>\n",
       "      <td>120</td>\n",
       "      <td>236</td>\n",
       "      <td>0</td>\n",
       "      <td>1</td>\n",
       "      <td>178</td>\n",
       "      <td>0</td>\n",
       "      <td>0.8</td>\n",
       "      <td>2</td>\n",
       "      <td>0</td>\n",
       "      <td>2</td>\n",
       "      <td>1</td>\n",
       "    </tr>\n",
       "    <tr>\n",
       "      <th>4</th>\n",
       "      <td>57</td>\n",
       "      <td>0</td>\n",
       "      <td>0</td>\n",
       "      <td>120</td>\n",
       "      <td>354</td>\n",
       "      <td>0</td>\n",
       "      <td>1</td>\n",
       "      <td>163</td>\n",
       "      <td>1</td>\n",
       "      <td>0.6</td>\n",
       "      <td>2</td>\n",
       "      <td>0</td>\n",
       "      <td>2</td>\n",
       "      <td>1</td>\n",
       "    </tr>\n",
       "  </tbody>\n",
       "</table>\n",
       "</div>"
      ],
      "text/plain": [
       "   age  sex  cp  trestbps  chol  fbs  restecg  thalach  exang  oldpeak  slope  \\\n",
       "0   63    1   3       145   233    1        0      150      0      2.3      0   \n",
       "1   37    1   2       130   250    0        1      187      0      3.5      0   \n",
       "2   41    0   1       130   204    0        0      172      0      1.4      2   \n",
       "3   56    1   1       120   236    0        1      178      0      0.8      2   \n",
       "4   57    0   0       120   354    0        1      163      1      0.6      2   \n",
       "\n",
       "   ca  thal  target  \n",
       "0   0     1       1  \n",
       "1   0     2       1  \n",
       "2   0     2       1  \n",
       "3   0     2       1  \n",
       "4   0     2       1  "
      ]
     },
     "execution_count": 10,
     "metadata": {},
     "output_type": "execute_result"
    }
   ],
   "source": [
    "df.head()"
   ]
  },
  {
   "cell_type": "code",
   "execution_count": 11,
   "id": "b7d1eed5",
   "metadata": {},
   "outputs": [],
   "source": [
    "# 2) Split features (X) and target (y)\n",
    "X = df.drop(columns=[\"target\"]).values\n",
    "y = df[\"target\"].values"
   ]
  },
  {
   "cell_type": "code",
   "execution_count": 12,
   "id": "3874251f",
   "metadata": {},
   "outputs": [],
   "source": [
    "# 3) Scale features\n",
    "scaler = StandardScaler()\n",
    "X_scaled = scaler.fit_transform(X)"
   ]
  },
  {
   "cell_type": "code",
   "execution_count": 13,
   "id": "7dc29ab9",
   "metadata": {},
   "outputs": [
    {
     "name": "stdout",
     "output_type": "stream",
     "text": [
      "Silhouette Score (2 clusters): 0.166\n"
     ]
    }
   ],
   "source": [
    "# 4) Clustering with K-Means\n",
    "kmeans = KMeans(n_clusters=2, random_state=42)\n",
    "clusters = kmeans.fit_predict(X_scaled)\n",
    "sil_score = silhouette_score(X_scaled, clusters)\n",
    "print(f\"Silhouette Score (2 clusters): {sil_score:.3f}\")"
   ]
  },
  {
   "cell_type": "code",
   "execution_count": 14,
   "id": "00301946",
   "metadata": {},
   "outputs": [],
   "source": [
    "# 5) Prepare augmented feature set including cluster label\n",
    "X_aug = np.hstack([X_scaled, clusters.reshape(-1, 1)])"
   ]
  },
  {
   "cell_type": "code",
   "execution_count": 15,
   "id": "c24ef91e",
   "metadata": {},
   "outputs": [],
   "source": [
    "# 6) Train/Test split for TensorFlow model (using original features)\n",
    "X_train_tf, X_test_tf, y_train_tf, y_test_tf = train_test_split(\n",
    "    X_scaled, y, test_size=0.3, random_state=42, stratify=y\n",
    ")"
   ]
  },
  {
   "cell_type": "code",
   "execution_count": 16,
   "id": "107055d5",
   "metadata": {},
   "outputs": [
    {
     "name": "stderr",
     "output_type": "stream",
     "text": [
      "c:\\Users\\Dell\\AppData\\Local\\Programs\\Python\\Python312\\Lib\\site-packages\\keras\\src\\layers\\core\\dense.py:87: UserWarning: Do not pass an `input_shape`/`input_dim` argument to a layer. When using Sequential models, prefer using an `Input(shape)` object as the first layer in the model instead.\n",
      "  super().__init__(activity_regularizer=activity_regularizer, **kwargs)\n"
     ]
    },
    {
     "name": "stdout",
     "output_type": "stream",
     "text": [
      "Epoch 1/50\n",
      "11/11 - 1s - 135ms/step - accuracy: 0.5444 - loss: 0.7096 - val_accuracy: 0.5116 - val_loss: 0.6722\n",
      "Epoch 2/50\n",
      "11/11 - 0s - 9ms/step - accuracy: 0.5621 - loss: 0.6656 - val_accuracy: 0.6977 - val_loss: 0.6287\n",
      "Epoch 3/50\n",
      "11/11 - 0s - 9ms/step - accuracy: 0.5799 - loss: 0.6592 - val_accuracy: 0.6977 - val_loss: 0.5953\n",
      "Epoch 4/50\n",
      "11/11 - 0s - 10ms/step - accuracy: 0.6805 - loss: 0.5960 - val_accuracy: 0.8372 - val_loss: 0.5663\n",
      "Epoch 5/50\n",
      "11/11 - 0s - 9ms/step - accuracy: 0.7219 - loss: 0.5981 - val_accuracy: 0.8372 - val_loss: 0.5382\n",
      "Epoch 6/50\n",
      "11/11 - 0s - 14ms/step - accuracy: 0.6746 - loss: 0.5834 - val_accuracy: 0.8837 - val_loss: 0.5093\n",
      "Epoch 7/50\n",
      "11/11 - 0s - 9ms/step - accuracy: 0.6864 - loss: 0.5765 - val_accuracy: 0.8605 - val_loss: 0.4812\n",
      "Epoch 8/50\n",
      "11/11 - 0s - 10ms/step - accuracy: 0.7692 - loss: 0.5471 - val_accuracy: 0.8837 - val_loss: 0.4571\n",
      "Epoch 9/50\n",
      "11/11 - 0s - 9ms/step - accuracy: 0.7515 - loss: 0.5570 - val_accuracy: 0.8837 - val_loss: 0.4334\n",
      "Epoch 10/50\n",
      "11/11 - 0s - 10ms/step - accuracy: 0.7988 - loss: 0.4945 - val_accuracy: 0.8837 - val_loss: 0.4109\n",
      "Epoch 11/50\n",
      "11/11 - 0s - 10ms/step - accuracy: 0.7870 - loss: 0.5087 - val_accuracy: 0.8837 - val_loss: 0.3894\n",
      "Epoch 12/50\n",
      "11/11 - 0s - 9ms/step - accuracy: 0.7751 - loss: 0.4856 - val_accuracy: 0.8837 - val_loss: 0.3728\n",
      "Epoch 13/50\n",
      "11/11 - 0s - 9ms/step - accuracy: 0.7751 - loss: 0.4733 - val_accuracy: 0.9070 - val_loss: 0.3574\n",
      "Epoch 14/50\n",
      "11/11 - 0s - 9ms/step - accuracy: 0.8107 - loss: 0.4682 - val_accuracy: 0.9070 - val_loss: 0.3417\n",
      "Epoch 15/50\n",
      "11/11 - 0s - 10ms/step - accuracy: 0.8284 - loss: 0.4249 - val_accuracy: 0.9070 - val_loss: 0.3289\n",
      "Epoch 16/50\n",
      "11/11 - 0s - 9ms/step - accuracy: 0.8462 - loss: 0.4382 - val_accuracy: 0.9070 - val_loss: 0.3159\n",
      "Epoch 17/50\n",
      "11/11 - 0s - 9ms/step - accuracy: 0.7988 - loss: 0.4274 - val_accuracy: 0.9070 - val_loss: 0.3071\n",
      "Epoch 18/50\n",
      "11/11 - 0s - 9ms/step - accuracy: 0.8284 - loss: 0.4147 - val_accuracy: 0.9070 - val_loss: 0.2956\n",
      "Epoch 19/50\n",
      "11/11 - 0s - 9ms/step - accuracy: 0.8402 - loss: 0.4291 - val_accuracy: 0.9070 - val_loss: 0.2843\n",
      "Epoch 20/50\n",
      "11/11 - 0s - 14ms/step - accuracy: 0.8107 - loss: 0.4445 - val_accuracy: 0.9070 - val_loss: 0.2769\n",
      "Epoch 21/50\n",
      "11/11 - 0s - 10ms/step - accuracy: 0.8343 - loss: 0.4243 - val_accuracy: 0.9070 - val_loss: 0.2693\n",
      "Epoch 22/50\n",
      "11/11 - 0s - 9ms/step - accuracy: 0.8757 - loss: 0.3876 - val_accuracy: 0.9070 - val_loss: 0.2658\n",
      "Epoch 23/50\n",
      "11/11 - 0s - 8ms/step - accuracy: 0.8284 - loss: 0.3968 - val_accuracy: 0.9070 - val_loss: 0.2624\n",
      "Epoch 24/50\n",
      "11/11 - 0s - 9ms/step - accuracy: 0.8521 - loss: 0.4221 - val_accuracy: 0.9070 - val_loss: 0.2620\n",
      "Epoch 25/50\n",
      "11/11 - 0s - 9ms/step - accuracy: 0.8284 - loss: 0.4042 - val_accuracy: 0.9070 - val_loss: 0.2600\n",
      "Epoch 26/50\n",
      "11/11 - 0s - 9ms/step - accuracy: 0.8639 - loss: 0.3799 - val_accuracy: 0.9070 - val_loss: 0.2591\n",
      "Epoch 27/50\n",
      "11/11 - 0s - 10ms/step - accuracy: 0.8639 - loss: 0.3586 - val_accuracy: 0.9070 - val_loss: 0.2569\n",
      "Epoch 28/50\n",
      "11/11 - 0s - 9ms/step - accuracy: 0.8402 - loss: 0.3875 - val_accuracy: 0.9070 - val_loss: 0.2555\n",
      "Epoch 29/50\n",
      "11/11 - 0s - 10ms/step - accuracy: 0.8639 - loss: 0.3542 - val_accuracy: 0.9070 - val_loss: 0.2545\n",
      "Epoch 30/50\n",
      "11/11 - 0s - 10ms/step - accuracy: 0.8521 - loss: 0.3465 - val_accuracy: 0.9070 - val_loss: 0.2528\n",
      "Epoch 31/50\n",
      "11/11 - 0s - 11ms/step - accuracy: 0.8817 - loss: 0.3788 - val_accuracy: 0.9070 - val_loss: 0.2542\n",
      "Epoch 32/50\n",
      "11/11 - 0s - 11ms/step - accuracy: 0.8521 - loss: 0.3709 - val_accuracy: 0.9070 - val_loss: 0.2539\n",
      "Epoch 33/50\n",
      "11/11 - 0s - 11ms/step - accuracy: 0.8580 - loss: 0.3493 - val_accuracy: 0.9070 - val_loss: 0.2517\n",
      "Epoch 34/50\n",
      "11/11 - 0s - 10ms/step - accuracy: 0.8817 - loss: 0.3297 - val_accuracy: 0.9070 - val_loss: 0.2495\n",
      "Epoch 35/50\n",
      "11/11 - 0s - 11ms/step - accuracy: 0.8698 - loss: 0.3536 - val_accuracy: 0.9070 - val_loss: 0.2485\n",
      "Epoch 36/50\n",
      "11/11 - 0s - 11ms/step - accuracy: 0.8462 - loss: 0.3595 - val_accuracy: 0.9070 - val_loss: 0.2498\n",
      "Epoch 37/50\n",
      "11/11 - 0s - 10ms/step - accuracy: 0.8757 - loss: 0.2916 - val_accuracy: 0.9070 - val_loss: 0.2526\n",
      "Epoch 38/50\n",
      "11/11 - 0s - 11ms/step - accuracy: 0.8757 - loss: 0.3521 - val_accuracy: 0.9070 - val_loss: 0.2525\n",
      "Epoch 39/50\n",
      "11/11 - 0s - 10ms/step - accuracy: 0.8698 - loss: 0.3170 - val_accuracy: 0.9070 - val_loss: 0.2541\n",
      "Epoch 40/50\n",
      "11/11 - 0s - 12ms/step - accuracy: 0.8462 - loss: 0.3635 - val_accuracy: 0.9070 - val_loss: 0.2561\n",
      "Epoch 41/50\n",
      "11/11 - 0s - 11ms/step - accuracy: 0.8698 - loss: 0.3423 - val_accuracy: 0.9070 - val_loss: 0.2576\n",
      "Epoch 42/50\n",
      "11/11 - 0s - 11ms/step - accuracy: 0.8225 - loss: 0.3445 - val_accuracy: 0.9070 - val_loss: 0.2574\n",
      "Epoch 43/50\n",
      "11/11 - 0s - 10ms/step - accuracy: 0.8817 - loss: 0.3242 - val_accuracy: 0.9070 - val_loss: 0.2579\n",
      "Epoch 44/50\n",
      "11/11 - 0s - 11ms/step - accuracy: 0.8639 - loss: 0.3252 - val_accuracy: 0.9070 - val_loss: 0.2590\n",
      "Epoch 45/50\n",
      "11/11 - 0s - 11ms/step - accuracy: 0.8462 - loss: 0.3620 - val_accuracy: 0.9070 - val_loss: 0.2617\n",
      "Epoch 46/50\n",
      "11/11 - 0s - 11ms/step - accuracy: 0.8580 - loss: 0.3336 - val_accuracy: 0.9070 - val_loss: 0.2627\n",
      "Epoch 47/50\n",
      "11/11 - 0s - 12ms/step - accuracy: 0.8757 - loss: 0.3437 - val_accuracy: 0.9070 - val_loss: 0.2600\n",
      "Epoch 48/50\n",
      "11/11 - 0s - 12ms/step - accuracy: 0.8935 - loss: 0.3100 - val_accuracy: 0.9070 - val_loss: 0.2596\n",
      "Epoch 49/50\n",
      "11/11 - 0s - 11ms/step - accuracy: 0.8935 - loss: 0.2918 - val_accuracy: 0.9070 - val_loss: 0.2616\n",
      "Epoch 50/50\n",
      "11/11 - 0s - 11ms/step - accuracy: 0.8580 - loss: 0.3342 - val_accuracy: 0.9070 - val_loss: 0.2646\n"
     ]
    }
   ],
   "source": [
    "# 7) Build and train a TensorFlow MLP\n",
    "tf_model = models.Sequential([\n",
    "    layers.Dense(32, activation='relu', input_shape=(X_train_tf.shape[1],)),\n",
    "    layers.Dropout(0.3),\n",
    "    layers.Dense(16, activation='relu'),\n",
    "    layers.Dropout(0.2),\n",
    "    layers.Dense(1, activation='sigmoid')\n",
    "])\n",
    "tf_model.compile(optimizer='adam', loss='binary_crossentropy', metrics=['accuracy'])\n",
    "\n",
    "tf_history = tf_model.fit(\n",
    "    X_train_tf, y_train_tf,\n",
    "    validation_split=0.2,\n",
    "    epochs=50,\n",
    "    batch_size=16,\n",
    "    verbose=2\n",
    ")"
   ]
  },
  {
   "cell_type": "code",
   "execution_count": 17,
   "id": "716bc4c6",
   "metadata": {},
   "outputs": [
    {
     "name": "stdout",
     "output_type": "stream",
     "text": [
      "\n",
      "TensorFlow MLP Test Accuracy: 0.725\n"
     ]
    }
   ],
   "source": [
    "# 8) Evaluate TensorFlow model\n",
    "loss, acc = tf_model.evaluate(X_test_tf, y_test_tf, verbose=0)\n",
    "print(f\"\\nTensorFlow MLP Test Accuracy: {acc:.3f}\")"
   ]
  },
  {
   "cell_type": "code",
   "execution_count": 18,
   "id": "56ea7dcd",
   "metadata": {},
   "outputs": [],
   "source": [
    "# 9) Train/Test split for scikit-learn MLP (using augmented features)\n",
    "X_train_sk, X_test_sk, y_train_sk, y_test_sk = train_test_split(\n",
    "    X_aug, y, test_size=0.3, random_state=42, stratify=y\n",
    ")"
   ]
  },
  {
   "cell_type": "code",
   "execution_count": 19,
   "id": "b6999eb8",
   "metadata": {},
   "outputs": [
    {
     "name": "stderr",
     "output_type": "stream",
     "text": [
      "c:\\Users\\Dell\\AppData\\Local\\Programs\\Python\\Python312\\Lib\\site-packages\\sklearn\\neural_network\\_multilayer_perceptron.py:691: ConvergenceWarning: Stochastic Optimizer: Maximum iterations (200) reached and the optimization hasn't converged yet.\n",
      "  warnings.warn(\n"
     ]
    }
   ],
   "source": [
    "# 10) Build and train a scikit-learn MLPClassifier\n",
    "sk_mlp = MLPClassifier(\n",
    "    hidden_layer_sizes=(50, 25),\n",
    "    activation=\"relu\",\n",
    "    solver=\"adam\",\n",
    "    max_iter=200,\n",
    "    random_state=42\n",
    ")\n",
    "sk_mlp.fit(X_train_sk, y_train_sk)\n",
    "y_pred_sk = sk_mlp.predict(X_test_sk)"
   ]
  },
  {
   "cell_type": "code",
   "execution_count": 20,
   "id": "b404a36c",
   "metadata": {},
   "outputs": [
    {
     "name": "stdout",
     "output_type": "stream",
     "text": [
      "\n",
      "=== scikit-learn MLP Results ===\n",
      "Accuracy : 0.747\n",
      "Precision: 0.776\n",
      "Recall   : 0.760\n",
      "F1 Score : 0.768\n",
      "\n",
      "Classification Report:\n",
      "              precision    recall  f1-score   support\n",
      "\n",
      "           0       0.71      0.73      0.72        41\n",
      "           1       0.78      0.76      0.77        50\n",
      "\n",
      "    accuracy                           0.75        91\n",
      "   macro avg       0.74      0.75      0.75        91\n",
      "weighted avg       0.75      0.75      0.75        91\n",
      "\n",
      "Confusion Matrix:\n",
      "[[30 11]\n",
      " [12 38]]\n"
     ]
    }
   ],
   "source": [
    "# 11) Evaluate scikit-learn model\n",
    "acc_sk  = accuracy_score(y_test_sk, y_pred_sk)\n",
    "prec_sk = precision_score(y_test_sk, y_pred_sk)\n",
    "rec_sk  = recall_score(y_test_sk, y_pred_sk)\n",
    "f1_sk   = f1_score(y_test_sk, y_pred_sk)\n",
    "\n",
    "print(\"\\n=== scikit-learn MLP Results ===\")\n",
    "print(f\"Accuracy : {acc_sk:.3f}\")\n",
    "print(f\"Precision: {prec_sk:.3f}\")\n",
    "print(f\"Recall   : {rec_sk:.3f}\")\n",
    "print(f\"F1 Score : {f1_sk:.3f}\\n\")\n",
    "\n",
    "print(\"Classification Report:\")\n",
    "print(classification_report(y_test_sk, y_pred_sk))\n",
    "\n",
    "print(\"Confusion Matrix:\")\n",
    "print(confusion_matrix(y_test_sk, y_pred_sk))"
   ]
  }
 ],
 "metadata": {
  "kernelspec": {
   "display_name": "Python 3",
   "language": "python",
   "name": "python3"
  },
  "language_info": {
   "codemirror_mode": {
    "name": "ipython",
    "version": 3
   },
   "file_extension": ".py",
   "mimetype": "text/x-python",
   "name": "python",
   "nbconvert_exporter": "python",
   "pygments_lexer": "ipython3",
   "version": "3.12.5"
  }
 },
 "nbformat": 4,
 "nbformat_minor": 5
}
